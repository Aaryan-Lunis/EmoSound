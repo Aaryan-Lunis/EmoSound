{
 "cells": [
  {
   "cell_type": "code",
   "execution_count": 1,
   "id": "83e67955",
   "metadata": {},
   "outputs": [],
   "source": [
    "import os \n",
    "import pandas as pd"
   ]
  },
  {
   "cell_type": "code",
   "execution_count": 6,
   "id": "5f293c11",
   "metadata": {},
   "outputs": [],
   "source": [
    "dataset_path = \"audio/datasets/audio_speech_actors_01-24\"\n",
    "data = []\n"
   ]
  },
  {
   "cell_type": "markdown",
   "id": "8b318d45",
   "metadata": {},
   "source": [
    "#Example format: \"03-01-05-01-02-01-12.wav\"\n",
    "#Breakdown: modality - vocal_channel - emotion - intensity - statement - repetition - actor"
   ]
  },
  {
   "cell_type": "code",
   "execution_count": 8,
   "id": "25b155a5",
   "metadata": {},
   "outputs": [
    {
     "data": {
      "text/html": [
       "<div>\n",
       "<style scoped>\n",
       "    .dataframe tbody tr th:only-of-type {\n",
       "        vertical-align: middle;\n",
       "    }\n",
       "\n",
       "    .dataframe tbody tr th {\n",
       "        vertical-align: top;\n",
       "    }\n",
       "\n",
       "    .dataframe thead th {\n",
       "        text-align: right;\n",
       "    }\n",
       "</style>\n",
       "<table border=\"1\" class=\"dataframe\">\n",
       "  <thead>\n",
       "    <tr style=\"text-align: right;\">\n",
       "      <th></th>\n",
       "      <th>file_path</th>\n",
       "      <th>emotion</th>\n",
       "      <th>actor</th>\n",
       "    </tr>\n",
       "  </thead>\n",
       "  <tbody>\n",
       "    <tr>\n",
       "      <th>0</th>\n",
       "      <td>audio/datasets/audio_speech_actors_01-24\\Actor...</td>\n",
       "      <td>1</td>\n",
       "      <td>1</td>\n",
       "    </tr>\n",
       "    <tr>\n",
       "      <th>1</th>\n",
       "      <td>audio/datasets/audio_speech_actors_01-24\\Actor...</td>\n",
       "      <td>1</td>\n",
       "      <td>1</td>\n",
       "    </tr>\n",
       "    <tr>\n",
       "      <th>2</th>\n",
       "      <td>audio/datasets/audio_speech_actors_01-24\\Actor...</td>\n",
       "      <td>1</td>\n",
       "      <td>1</td>\n",
       "    </tr>\n",
       "    <tr>\n",
       "      <th>3</th>\n",
       "      <td>audio/datasets/audio_speech_actors_01-24\\Actor...</td>\n",
       "      <td>1</td>\n",
       "      <td>1</td>\n",
       "    </tr>\n",
       "    <tr>\n",
       "      <th>4</th>\n",
       "      <td>audio/datasets/audio_speech_actors_01-24\\Actor...</td>\n",
       "      <td>2</td>\n",
       "      <td>1</td>\n",
       "    </tr>\n",
       "  </tbody>\n",
       "</table>\n",
       "</div>"
      ],
      "text/plain": [
       "                                           file_path  emotion  actor\n",
       "0  audio/datasets/audio_speech_actors_01-24\\Actor...        1      1\n",
       "1  audio/datasets/audio_speech_actors_01-24\\Actor...        1      1\n",
       "2  audio/datasets/audio_speech_actors_01-24\\Actor...        1      1\n",
       "3  audio/datasets/audio_speech_actors_01-24\\Actor...        1      1\n",
       "4  audio/datasets/audio_speech_actors_01-24\\Actor...        2      1"
      ]
     },
     "execution_count": 8,
     "metadata": {},
     "output_type": "execute_result"
    }
   ],
   "source": [
    "for actor_folder in os.listdir(dataset_path):\n",
    "    actor_path = os.path.join(dataset_path,actor_folder)\n",
    "    \n",
    "    if os.path.isdir(actor_path):\n",
    "        for file_name in os.listdir(actor_path):\n",
    "            if file_name.endswith(\".wav\"):\n",
    "                parts = file_name.split(\"-\")\n",
    "                emotion = int(parts[2])\n",
    "                actor_id = int(parts[-1].split(\".\")[0])\n",
    "                file_path = os.path.join(actor_path,file_name)\n",
    "                data.append({\n",
    "                    \"file_path\" : file_path,\n",
    "                    \"emotion\": emotion,\n",
    "                    \"actor\": actor_id\n",
    "                })\n",
    "df = pd.DataFrame(data)\n",
    "df.to_csv(\"ravdess_labelled_data.csv\",index = False)\n",
    "df.head()"
   ]
  },
  {
   "cell_type": "code",
   "execution_count": 9,
   "id": "85485ec3",
   "metadata": {},
   "outputs": [],
   "source": [
    "#to encode emotionnumber to emotion\n",
    "# Mapping dictionary\n",
    "# emotion_map = {\n",
    "#     1: \"neutral\",\n",
    "#     2: \"calm\",\n",
    "#     3: \"happy\",\n",
    "#     4: \"sad\",\n",
    "#     5: \"angry\",\n",
    "#     6: \"fearful\",\n",
    "#     7: \"disgust\",\n",
    "#     8: \"surprised\"\n",
    "# }\n",
    "\n",
    "# Apply the mapping to the 'emotion' column\n",
    "# df['emotion'] = df['emotion'].map(emotion_map)\n",
    "# df.to_csv(\"ravdess_data.csv\", index=False)\n"
   ]
  },
  {
   "cell_type": "code",
   "execution_count": 7,
   "id": "54d07e03",
   "metadata": {},
   "outputs": [],
   "source": [
    "import librosa\n",
    "import numpy as np\n",
    "\n",
    "def extract_features(file_path):\n",
    "    y, sr = librosa.load(file_path, duration=3, offset=0.5)\n",
    "    mfcc = librosa.feature.mfcc(y=y, sr=sr, n_mfcc=40)\n",
    "    return np.mean(mfcc.T, axis=0)"
   ]
  },
  {
   "cell_type": "code",
   "execution_count": 2,
   "id": "a5278ab7",
   "metadata": {},
   "outputs": [
    {
     "data": {
      "text/html": [
       "<div>\n",
       "<style scoped>\n",
       "    .dataframe tbody tr th:only-of-type {\n",
       "        vertical-align: middle;\n",
       "    }\n",
       "\n",
       "    .dataframe tbody tr th {\n",
       "        vertical-align: top;\n",
       "    }\n",
       "\n",
       "    .dataframe thead th {\n",
       "        text-align: right;\n",
       "    }\n",
       "</style>\n",
       "<table border=\"1\" class=\"dataframe\">\n",
       "  <thead>\n",
       "    <tr style=\"text-align: right;\">\n",
       "      <th></th>\n",
       "      <th>file_path</th>\n",
       "      <th>emotion</th>\n",
       "      <th>actor</th>\n",
       "    </tr>\n",
       "  </thead>\n",
       "  <tbody>\n",
       "    <tr>\n",
       "      <th>0</th>\n",
       "      <td>audio/datasets/audio_speech_actors_01-24\\Actor...</td>\n",
       "      <td>1</td>\n",
       "      <td>1</td>\n",
       "    </tr>\n",
       "    <tr>\n",
       "      <th>1</th>\n",
       "      <td>audio/datasets/audio_speech_actors_01-24\\Actor...</td>\n",
       "      <td>1</td>\n",
       "      <td>1</td>\n",
       "    </tr>\n",
       "    <tr>\n",
       "      <th>2</th>\n",
       "      <td>audio/datasets/audio_speech_actors_01-24\\Actor...</td>\n",
       "      <td>1</td>\n",
       "      <td>1</td>\n",
       "    </tr>\n",
       "    <tr>\n",
       "      <th>3</th>\n",
       "      <td>audio/datasets/audio_speech_actors_01-24\\Actor...</td>\n",
       "      <td>1</td>\n",
       "      <td>1</td>\n",
       "    </tr>\n",
       "    <tr>\n",
       "      <th>4</th>\n",
       "      <td>audio/datasets/audio_speech_actors_01-24\\Actor...</td>\n",
       "      <td>2</td>\n",
       "      <td>1</td>\n",
       "    </tr>\n",
       "  </tbody>\n",
       "</table>\n",
       "</div>"
      ],
      "text/plain": [
       "                                           file_path  emotion  actor\n",
       "0  audio/datasets/audio_speech_actors_01-24\\Actor...        1      1\n",
       "1  audio/datasets/audio_speech_actors_01-24\\Actor...        1      1\n",
       "2  audio/datasets/audio_speech_actors_01-24\\Actor...        1      1\n",
       "3  audio/datasets/audio_speech_actors_01-24\\Actor...        1      1\n",
       "4  audio/datasets/audio_speech_actors_01-24\\Actor...        2      1"
      ]
     },
     "execution_count": 2,
     "metadata": {},
     "output_type": "execute_result"
    }
   ],
   "source": [
    "import pandas as pd\n",
    "import os\n",
    "df = pd.read_csv(\"ravdess_labelled_data.csv\")\n",
    "df.head()\n"
   ]
  },
  {
   "cell_type": "code",
   "execution_count": 4,
   "id": "17f0b50b",
   "metadata": {},
   "outputs": [
    {
     "name": "stdout",
     "output_type": "stream",
     "text": [
      "Index(['file_path', 'emotion', 'actor'], dtype='object')\n"
     ]
    }
   ],
   "source": [
    "print(df.columns)"
   ]
  },
  {
   "cell_type": "code",
   "execution_count": 8,
   "id": "2ac87449",
   "metadata": {},
   "outputs": [],
   "source": [
    "features = []\n",
    "labels = []\n",
    "\n",
    "for index, row in df.iterrows():\n",
    "    mfccs = extract_features(row['file_path'])\n",
    "    features.append(mfccs)\n",
    "    labels.append(row['emotion'])\n",
    "\n",
    "X = np.array(features)\n",
    "y = np.array(labels)\n"
   ]
  },
  {
   "cell_type": "code",
   "execution_count": 9,
   "id": "2704893e",
   "metadata": {},
   "outputs": [
    {
     "name": "stdout",
     "output_type": "stream",
     "text": [
      "              precision    recall  f1-score   support\n",
      "\n",
      "           1       0.73      0.40      0.52        20\n",
      "           2       0.37      0.81      0.51        27\n",
      "           3       0.44      0.27      0.34        44\n",
      "           4       0.60      0.45      0.51        40\n",
      "           5       0.67      0.75      0.71        32\n",
      "           6       0.71      0.66      0.68        38\n",
      "           7       0.67      0.63      0.65        46\n",
      "           8       0.53      0.61      0.57        41\n",
      "\n",
      "    accuracy                           0.57       288\n",
      "   macro avg       0.59      0.57      0.56       288\n",
      "weighted avg       0.59      0.57      0.56       288\n",
      "\n"
     ]
    }
   ],
   "source": [
    "from sklearn.ensemble import RandomForestClassifier\n",
    "from sklearn.model_selection import train_test_split\n",
    "from sklearn.metrics import classification_report\n",
    "\n",
    "X_train, X_test, y_train, y_test = train_test_split(X, y, test_size=0.2)\n",
    "model = RandomForestClassifier()\n",
    "model.fit(X_train, y_train)\n",
    "\n",
    "preds = model.predict(X_test)\n",
    "print(classification_report(y_test, preds))\n"
   ]
  }
 ],
 "metadata": {
  "kernelspec": {
   "display_name": "Python 3",
   "language": "python",
   "name": "python3"
  },
  "language_info": {
   "codemirror_mode": {
    "name": "ipython",
    "version": 3
   },
   "file_extension": ".py",
   "mimetype": "text/x-python",
   "name": "python",
   "nbconvert_exporter": "python",
   "pygments_lexer": "ipython3",
   "version": "3.11.1"
  }
 },
 "nbformat": 4,
 "nbformat_minor": 5
}
